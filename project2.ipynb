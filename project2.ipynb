version https://git-lfs.github.com/spec/v1
oid sha256:271b215d47b880cb4d5829bc0d1684795b005e7860cfd8585cb458ae0ba4a675
size 545289
